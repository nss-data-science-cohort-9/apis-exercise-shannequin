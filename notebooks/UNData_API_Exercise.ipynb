{
 "cells": [
  {
   "cell_type": "markdown",
   "id": "3d85e1d4-9b29-4cb3-8f61-28fcb4de1d0c",
   "metadata": {},
   "source": [
    "# UNData API Exercise\n",
    "In this exercise, you'll redo the data gathering phase of the UNData Exploration project by using APIs instead of downloading csv files.\n",
    "\n",
    "You'll make use of the World Bank Indicators API. Note that this API does not require an API key. Before attempting the exercise, it would be a good idea to skim through the Documentation page and to check out the Basic Call Structure article."
   ]
  },
  {
   "cell_type": "code",
   "execution_count": 1,
   "id": "97118ae9-ece0-465a-9673-ff72ce2ac34a",
   "metadata": {},
   "outputs": [],
   "source": [
    "import pandas as pd\n",
    "import requests"
   ]
  },
  {
   "cell_type": "code",
   "execution_count": 2,
   "id": "43ed1a94-f10c-4aa1-a424-f3f3b71702d3",
   "metadata": {},
   "outputs": [],
   "source": [
    "# CONSTANTS\n",
    "base_url = \"https://api.worldbank.org/V2/\"\n",
    "indicator_endpoint = \"country/all/indicator/\"\n",
    "params = {\n",
    "    \"format\": \"json\",\n",
    "    \"Per_page\": 20000\n",
    "}"
   ]
  },
  {
   "cell_type": "markdown",
   "id": "0c0b1371-41ee-465b-9286-b9e7c54581b3",
   "metadata": {},
   "source": [
    "## 1. Use the API to get all available data for the GDP per capita, PPP (constant 2021 international $) indicator.\n",
    "Hint: this indicator has code \"NY.GDP.PCAP.PP.KD\". Adjust the query parameters so that you can retrieve all available rows. Convert the results to a DataFrame."
   ]
  },
  {
   "cell_type": "code",
   "execution_count": 5,
   "id": "03860643-a249-4ea1-b645-7169d36e9457",
   "metadata": {},
   "outputs": [],
   "source": [
    "# GDP per capita, PPP (constant 2021 international $) indicator\n",
    "indicator = \"NY.GDP.PCAP.PP.KD\"\n",
    "\n",
    "# SET URL\n",
    "url = base_url + indicator_endpoint + indicator\n",
    "\n",
    "# MAKE REQUEST\n",
    "response = requests.get(url=url, params=params)\n",
    "\n",
    "# CONVERT DATA TO JSON\n",
    "data = response.json()"
   ]
  },
  {
   "cell_type": "code",
   "execution_count": 11,
   "id": "6031c5bb-c461-4679-925f-56fb3b2ba26c",
   "metadata": {},
   "outputs": [
    {
     "data": {
      "text/html": [
       "<div>\n",
       "<style scoped>\n",
       "    .dataframe tbody tr th:only-of-type {\n",
       "        vertical-align: middle;\n",
       "    }\n",
       "\n",
       "    .dataframe tbody tr th {\n",
       "        vertical-align: top;\n",
       "    }\n",
       "\n",
       "    .dataframe thead th {\n",
       "        text-align: right;\n",
       "    }\n",
       "</style>\n",
       "<table border=\"1\" class=\"dataframe\">\n",
       "  <thead>\n",
       "    <tr style=\"text-align: right;\">\n",
       "      <th></th>\n",
       "      <th>countryiso3code</th>\n",
       "      <th>date</th>\n",
       "      <th>value</th>\n",
       "      <th>unit</th>\n",
       "      <th>obs_status</th>\n",
       "      <th>decimal</th>\n",
       "      <th>indicator.id</th>\n",
       "      <th>indicator.value</th>\n",
       "      <th>country.id</th>\n",
       "      <th>country.value</th>\n",
       "    </tr>\n",
       "  </thead>\n",
       "  <tbody>\n",
       "    <tr>\n",
       "      <th>0</th>\n",
       "      <td>AFE</td>\n",
       "      <td>2024</td>\n",
       "      <td>3968.963751</td>\n",
       "      <td></td>\n",
       "      <td></td>\n",
       "      <td>0</td>\n",
       "      <td>NY.GDP.PCAP.PP.KD</td>\n",
       "      <td>GDP per capita, PPP (constant 2021 internation...</td>\n",
       "      <td>ZH</td>\n",
       "      <td>Africa Eastern and Southern</td>\n",
       "    </tr>\n",
       "    <tr>\n",
       "      <th>1</th>\n",
       "      <td>AFE</td>\n",
       "      <td>2023</td>\n",
       "      <td>3948.142721</td>\n",
       "      <td></td>\n",
       "      <td></td>\n",
       "      <td>0</td>\n",
       "      <td>NY.GDP.PCAP.PP.KD</td>\n",
       "      <td>GDP per capita, PPP (constant 2021 internation...</td>\n",
       "      <td>ZH</td>\n",
       "      <td>Africa Eastern and Southern</td>\n",
       "    </tr>\n",
       "  </tbody>\n",
       "</table>\n",
       "</div>"
      ],
      "text/plain": [
       "  countryiso3code  date        value unit obs_status  decimal  \\\n",
       "0             AFE  2024  3968.963751                        0   \n",
       "1             AFE  2023  3948.142721                        0   \n",
       "\n",
       "        indicator.id                                    indicator.value  \\\n",
       "0  NY.GDP.PCAP.PP.KD  GDP per capita, PPP (constant 2021 internation...   \n",
       "1  NY.GDP.PCAP.PP.KD  GDP per capita, PPP (constant 2021 internation...   \n",
       "\n",
       "  country.id                country.value  \n",
       "0         ZH  Africa Eastern and Southern  \n",
       "1         ZH  Africa Eastern and Southern  "
      ]
     },
     "execution_count": 11,
     "metadata": {},
     "output_type": "execute_result"
    }
   ],
   "source": [
    "# CONVERT JSON DATA TO A DATAFRAME WITH NORMALIZED DATA\n",
    "gdp_df = pd.json_normalize(data=data[1])\n",
    "gdp_df.head(2)"
   ]
  },
  {
   "cell_type": "markdown",
   "id": "d02fbc4d-edd2-4575-acac-c6db5cee712f",
   "metadata": {},
   "source": [
    "## 2. Now, use the API to get all available data for Life expectancy at birth, total (years).\n",
    "This indicator has code \"SP.DYN.LE00.IN\". Again, convert the results to a DataFrame."
   ]
  },
  {
   "cell_type": "markdown",
   "id": "67f65568-99e5-4592-9561-d1f84a724531",
   "metadata": {},
   "source": [
    "## 3. Merge the two results DataFrames together.\n",
    "You may want to rename or drop columns prior to merging."
   ]
  },
  {
   "cell_type": "markdown",
   "id": "7708227c-23b8-4773-be77-e0aa6026b211",
   "metadata": {},
   "source": [
    "## 4. You can also get more information about the available countries (region, capital city, income level classification, etc.) by using the Country API.\n",
    "Use this API to pull in all available data. Merge this with your other datasets. Use this to now remove the rows that correspond to regions and not countries."
   ]
  },
  {
   "cell_type": "markdown",
   "id": "695ce7a8-086f-4ea4-852f-0ae569e1ac4f",
   "metadata": {},
   "source": [
    "# Bonus Questions: After doing a basic request to get all records, you can attempt these exercises to get additional practice using query parameters."
   ]
  },
  {
   "cell_type": "markdown",
   "id": "bc3fde22-0833-46ae-8618-022b38ed8b1d",
   "metadata": {},
   "source": [
    "## 1. Adjust your request so that it returns data just for the United States."
   ]
  },
  {
   "cell_type": "markdown",
   "id": "0f9c7119-9dfc-463a-8a44-e1c5c10dffe0",
   "metadata": {},
   "source": [
    "## 2. Adjust your request so that it returns data just for the United States for the year 2021."
   ]
  },
  {
   "cell_type": "markdown",
   "id": "5c5f9337-7a50-49b8-8b55-9fe9d454bb7b",
   "metadata": {},
   "source": [
    "## 3. Adjust your request so that it returns data just for the United States for the years 2000 through 2021."
   ]
  },
  {
   "cell_type": "markdown",
   "id": "d953d8df-ef0f-484f-99c2-fa0a61091522",
   "metadata": {},
   "source": [
    "## 4. Adjust your request so that it returns data for the United States and Canada for the years 2000 through 2021."
   ]
  },
  {
   "cell_type": "markdown",
   "id": "a65fceee-bbac-4255-a499-dde51f027172",
   "metadata": {},
   "source": [
    "## 5. If you haven't already done so and you would like to get some additional practice using loops, use the page parameter in order to pull all records. Do not change the value of the per_page parameter. You will likely need to utilize a loop of some kind in order to pull all records."
   ]
  },
  {
   "cell_type": "markdown",
   "id": "40578c8b-ea39-47d5-861d-7f3659c33f09",
   "metadata": {},
   "source": [
    "## 6. The endpoint \"http://api.worldbank.org/v2/indicator\" will return information about all available indicators. See Indicator API Queries. Use this endpoint to find the code for the \"Public Expenditure on Education (% GDP)\" indicator."
   ]
  },
  {
   "cell_type": "code",
   "execution_count": null,
   "id": "15398ea2-8c3d-4019-990d-74b7c5666ee2",
   "metadata": {},
   "outputs": [],
   "source": []
  }
 ],
 "metadata": {
  "kernelspec": {
   "display_name": "Python [conda env:base] *",
   "language": "python",
   "name": "conda-base-py"
  },
  "language_info": {
   "codemirror_mode": {
    "name": "ipython",
    "version": 3
   },
   "file_extension": ".py",
   "mimetype": "text/x-python",
   "name": "python",
   "nbconvert_exporter": "python",
   "pygments_lexer": "ipython3",
   "version": "3.13.5"
  }
 },
 "nbformat": 4,
 "nbformat_minor": 5
}
